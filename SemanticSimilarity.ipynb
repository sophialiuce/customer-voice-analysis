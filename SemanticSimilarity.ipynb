{
 "cells": [
  {
   "cell_type": "code",
   "execution_count": 1,
   "metadata": {},
   "outputs": [],
   "source": [
    "import sys, getopt, re\n",
    "\n",
    "def main(argv):\n",
    "    inputfile = ''\n",
    "    try:\n",
    "        opts, args = getopt.getopt(argv,\"i:\")\n",
    "        # print(opts,args)\n",
    "    except getopt.GetoptError:\n",
    "        print('TopicClassifier.py -i <BRAND>')\n",
    "        sys.exit(2)\n",
    "    \n",
    "    for opt, arg in opts:\n",
    "        if opt == \"-i\":\n",
    "            inputfile = arg\n",
    "    \n",
    "    if len(inputfile)==0:\n",
    "        print('usage: TopicClassifier.py -i <BRAND>')\n",
    "        sys.exit(2)\n",
    "    print('Input BRAND is ', inputfile)\n",
    "    return inputfile"
   ]
  },
  {
   "cell_type": "code",
   "execution_count": 2,
   "metadata": {},
   "outputs": [],
   "source": [
    "BRAND      = 'HAIRCARE'"
   ]
  },
  {
   "cell_type": "raw",
   "metadata": {},
   "source": [
    "BRAND      = main(sys.argv[1:])"
   ]
  },
  {
   "cell_type": "markdown",
   "metadata": {},
   "source": [
    "---"
   ]
  },
  {
   "cell_type": "code",
   "execution_count": 3,
   "metadata": {},
   "outputs": [],
   "source": [
    "from fastai.text import * # Quick access to NLP functionality"
   ]
  },
  {
   "cell_type": "code",
   "execution_count": 4,
   "metadata": {},
   "outputs": [],
   "source": [
    "import pandas as pd\n",
    "from sklearn.model_selection import train_test_split\n",
    "from sklearn.utils import class_weight"
   ]
  },
  {
   "cell_type": "code",
   "execution_count": 5,
   "metadata": {},
   "outputs": [],
   "source": [
    "import pickle"
   ]
  },
  {
   "cell_type": "markdown",
   "metadata": {},
   "source": [
    "# Pre-Processing"
   ]
  },
  {
   "cell_type": "markdown",
   "metadata": {},
   "source": [
    "## Data Loading (from saved verbatim)"
   ]
  },
  {
   "cell_type": "code",
   "execution_count": 6,
   "metadata": {},
   "outputs": [
    {
     "data": {
      "text/html": [
       "<div>\n",
       "<style scoped>\n",
       "    .dataframe tbody tr th:only-of-type {\n",
       "        vertical-align: middle;\n",
       "    }\n",
       "\n",
       "    .dataframe tbody tr th {\n",
       "        vertical-align: top;\n",
       "    }\n",
       "\n",
       "    .dataframe thead th {\n",
       "        text-align: right;\n",
       "    }\n",
       "</style>\n",
       "<table border=\"1\" class=\"dataframe\">\n",
       "  <thead>\n",
       "    <tr style=\"text-align: right;\">\n",
       "      <th></th>\n",
       "      <th>0</th>\n",
       "      <th>1</th>\n",
       "      <th>2</th>\n",
       "      <th>3</th>\n",
       "      <th>4</th>\n",
       "      <th>5</th>\n",
       "      <th>6</th>\n",
       "      <th>7</th>\n",
       "      <th>8</th>\n",
       "      <th>topic</th>\n",
       "    </tr>\n",
       "  </thead>\n",
       "  <tbody>\n",
       "    <tr>\n",
       "      <th>0</th>\n",
       "      <td>I could see tons of dandruff, but the itching ...</td>\n",
       "      <td>Dove Derma Care Scalp Dryness &amp; Itch Relief An...</td>\n",
       "      <td>4.0</td>\n",
       "      <td>My scalp was so itchy I was convinced I must h...</td>\n",
       "      <td>1</td>\n",
       "      <td>Positive</td>\n",
       "      <td>11/10/2018</td>\n",
       "      <td>TARGET.COM</td>\n",
       "      <td>https://www.target.com/p/dove-derma-care-scalp...</td>\n",
       "      <td>Weather</td>\n",
       "    </tr>\n",
       "    <tr>\n",
       "      <th>1</th>\n",
       "      <td>The flakes are gone but the itching and sores ...</td>\n",
       "      <td>Head &amp; Shoulders 2 Piece Clinical Solutions Sh...</td>\n",
       "      <td>5.0</td>\n",
       "      <td>Best I’ve ever used. I used to have severe dan...</td>\n",
       "      <td>1</td>\n",
       "      <td>Positive</td>\n",
       "      <td>10/26/2018</td>\n",
       "      <td>AMZ</td>\n",
       "      <td>https://www.amazon.com/Head-Shoulders-Clinical...</td>\n",
       "      <td>Weather</td>\n",
       "    </tr>\n",
       "    <tr>\n",
       "      <th>2</th>\n",
       "      <td>In warm weather my fine hair does seem more dr...</td>\n",
       "      <td>Dove Dermacare Scalp Anti-Dandruff Shampoo Dry...</td>\n",
       "      <td>5.0</td>\n",
       "      <td>Thank you for your entire line of Dermacare ha...</td>\n",
       "      <td>1</td>\n",
       "      <td>Positive</td>\n",
       "      <td>9/23/2018</td>\n",
       "      <td>-</td>\n",
       "      <td>https://www.walmart.com/ip/Dove-Dermacare-Scal...</td>\n",
       "      <td>Weather</td>\n",
       "    </tr>\n",
       "    <tr>\n",
       "      <th>3</th>\n",
       "      <td>This product always cures my itch during dry w...</td>\n",
       "      <td>Head &amp; Shoulders Volume Boost Hair Shampoo - 1...</td>\n",
       "      <td>4.0</td>\n",
       "      <td>This product always cures my itch during dry w...</td>\n",
       "      <td>1</td>\n",
       "      <td>Positive</td>\n",
       "      <td>9/12/2018</td>\n",
       "      <td>TARGET.COM</td>\n",
       "      <td>https://www.target.com/p/head-shoulders-volume...</td>\n",
       "      <td>Weather</td>\n",
       "    </tr>\n",
       "    <tr>\n",
       "      <th>4</th>\n",
       "      <td>Great shampoo for the winter!</td>\n",
       "      <td>Head &amp; Shoulders Volume Boost Hair Shampoo - 1...</td>\n",
       "      <td>5.0</td>\n",
       "      <td>Great shampoo for the winter! l use it around ...</td>\n",
       "      <td>1</td>\n",
       "      <td>Positive</td>\n",
       "      <td>9/5/2018</td>\n",
       "      <td>TARGET.COM</td>\n",
       "      <td>https://www.target.com/p/head-shoulders-volume...</td>\n",
       "      <td>Weather</td>\n",
       "    </tr>\n",
       "  </tbody>\n",
       "</table>\n",
       "</div>"
      ],
      "text/plain": [
       "                                                   0  \\\n",
       "0  I could see tons of dandruff, but the itching ...   \n",
       "1  The flakes are gone but the itching and sores ...   \n",
       "2  In warm weather my fine hair does seem more dr...   \n",
       "3  This product always cures my itch during dry w...   \n",
       "4                      Great shampoo for the winter!   \n",
       "\n",
       "                                                   1    2  \\\n",
       "0  Dove Derma Care Scalp Dryness & Itch Relief An...  4.0   \n",
       "1  Head & Shoulders 2 Piece Clinical Solutions Sh...  5.0   \n",
       "2  Dove Dermacare Scalp Anti-Dandruff Shampoo Dry...  5.0   \n",
       "3  Head & Shoulders Volume Boost Hair Shampoo - 1...  4.0   \n",
       "4  Head & Shoulders Volume Boost Hair Shampoo - 1...  5.0   \n",
       "\n",
       "                                                   3  4         5           6  \\\n",
       "0  My scalp was so itchy I was convinced I must h...  1  Positive  11/10/2018   \n",
       "1  Best I’ve ever used. I used to have severe dan...  1  Positive  10/26/2018   \n",
       "2  Thank you for your entire line of Dermacare ha...  1  Positive   9/23/2018   \n",
       "3  This product always cures my itch during dry w...  1  Positive   9/12/2018   \n",
       "4  Great shampoo for the winter! l use it around ...  1  Positive    9/5/2018   \n",
       "\n",
       "            7                                                  8    topic  \n",
       "0  TARGET.COM  https://www.target.com/p/dove-derma-care-scalp...  Weather  \n",
       "1         AMZ  https://www.amazon.com/Head-Shoulders-Clinical...  Weather  \n",
       "2           -  https://www.walmart.com/ip/Dove-Dermacare-Scal...  Weather  \n",
       "3  TARGET.COM  https://www.target.com/p/head-shoulders-volume...  Weather  \n",
       "4  TARGET.COM  https://www.target.com/p/head-shoulders-volume...  Weather  "
      ]
     },
     "execution_count": 6,
     "metadata": {},
     "output_type": "execute_result"
    }
   ],
   "source": [
    "dirname = './data/excels/'\n",
    "\n",
    "df=1; del df\n",
    "for filename in os.listdir(dirname):\n",
    "    df_tmp = pd.read_excel(os.path.join(dirname, filename), header=None, skiprows=1)\n",
    "    df_tmp['topic'] = filename.split('Aspect_')[-1].replace('_2.xls','')\n",
    "    \n",
    "    try:\n",
    "        df = pd.concat([df,df_tmp])\n",
    "    except:\n",
    "        df = df_tmp.copy()\n",
    "\n",
    "df.head()"
   ]
  },
  {
   "cell_type": "markdown",
   "metadata": {},
   "source": [
    "## Data Cleaning"
   ]
  },
  {
   "cell_type": "markdown",
   "metadata": {},
   "source": [
    "Extract the text snippets and associated topic; remove duplicates and too short verbatum "
   ]
  },
  {
   "cell_type": "code",
   "execution_count": 7,
   "metadata": {},
   "outputs": [],
   "source": [
    "# only keep snippets\n",
    "df = df[[0,'topic']].rename(columns = {0:'text', 'topic':'label'})\n",
    "\n",
    "# enforce format\n",
    "df['text'] = df['text'].astype(str)\n",
    "\n",
    "# remove short comments (keep 2nd percentile and higher lenghts)\n",
    "thresh = df['text'].apply(len).quantile(0.02)\n",
    "\n",
    "df = df.loc[df['text'].apply(lambda x: len(x)>=thresh)].\\\n",
    "    drop_duplicates()"
   ]
  },
  {
   "cell_type": "code",
   "execution_count": 8,
   "metadata": {},
   "outputs": [],
   "source": [
    "# keep only topics with enough samples\n",
    "df_counts = df.groupby('label').size()\n",
    "df = df.loc[df.label.isin(df_counts[df_counts>df_counts.max()/100].index.tolist())]"
   ]
  },
  {
   "cell_type": "code",
   "execution_count": 9,
   "metadata": {},
   "outputs": [],
   "source": [
    "# reset index\n",
    "df = df.reset_index().drop('index', axis=1)"
   ]
  },
  {
   "cell_type": "markdown",
   "metadata": {},
   "source": [
    "## Pre-Tokenization"
   ]
  },
  {
   "cell_type": "code",
   "execution_count": 10,
   "metadata": {},
   "outputs": [],
   "source": [
    "# # Setup stop words\n",
    "# from spacy.lang.en.stop_words import STOP_WORDS\n",
    "\n",
    "# for word in STOP_WORDS:\n",
    "#     for w in (word, word[0].capitalize(), word.upper()):\n",
    "#         lex = nlp.vocab[w]\n",
    "#         lex.is_stop = True"
   ]
  },
  {
   "cell_type": "code",
   "execution_count": 11,
   "metadata": {},
   "outputs": [],
   "source": [
    "# from nltk.corpus import stopwords\n",
    "import spacy\n",
    "import string\n",
    "\n",
    "# stop = set(stopwords.words('english'))\n",
    "exclude = set(string.punctuation)-set(['!','?'])\n",
    "\n",
    "nlp = spacy.load('en_core_web_lg', disable=['parser', 'ner'])\n",
    "\n",
    "def preprocess(doc, tags=['NOUN', 'ADJ','VERB','ADV']):\n",
    "    # make entire text lower case\n",
    "    doc = doc.lower()    \n",
    "    \n",
    "    # replace \"n't\" with \" not\" & remove unwanted characters, numbers and symbols\n",
    "    doc = doc.replace(\"n\\'t\", \" not\").replace(\"[^a-zA-Z#]\", \" \")\n",
    "       \n",
    "    # remove stop words\n",
    "    # doc = \" \".join([i for i in doc.split() if i not in stop])\n",
    "    \n",
    "    # remove short words (length < 3)\n",
    "    # doc = \" \".join([r for r in doc.split() if len(r)>2])\n",
    "    \n",
    "    # remove punctuation\n",
    "    doc = ''.join(ch for ch in doc if ch not in exclude)\n",
    "    \n",
    "    # lemmatization\n",
    "    doc = \" \".join([token.lemma_ for token in nlp(doc) if token.pos_ in tags])\n",
    "    return doc"
   ]
  },
  {
   "cell_type": "code",
   "execution_count": 12,
   "metadata": {},
   "outputs": [
    {
     "name": "stdout",
     "output_type": "stream",
     "text": [
      " Pre-Tokenization\n"
     ]
    }
   ],
   "source": [
    "# removes stop words, short words, and punctuation; lowercase and lemmatize all\n",
    "print(' Pre-Tokenization')\n",
    "df['text']        = df['text'].apply(preprocess)"
   ]
  },
  {
   "cell_type": "markdown",
   "metadata": {},
   "source": [
    "# Semantic Similarity"
   ]
  },
  {
   "cell_type": "code",
   "execution_count": 13,
   "metadata": {},
   "outputs": [],
   "source": [
    "path = './'\n",
    "\n",
    "path = Path('./')"
   ]
  },
  {
   "cell_type": "markdown",
   "metadata": {},
   "source": [
    "Load embeddings matrix"
   ]
  },
  {
   "cell_type": "code",
   "execution_count": 14,
   "metadata": {},
   "outputs": [],
   "source": [
    "with open('./models/fastai_nlp/embedding_mtx.pickle', 'rb') as handle:\n",
    "    emb_mtx = pickle.load(handle) "
   ]
  },
  {
   "cell_type": "markdown",
   "metadata": {},
   "source": [
    "Load the language model:"
   ]
  },
  {
   "cell_type": "code",
   "execution_count": 15,
   "metadata": {},
   "outputs": [],
   "source": [
    "with open('./models/fastai_nlp/vocab_{:}.pkl'.format(BRAND), 'rb') as handle:\n",
    "    vocab = pickle.load(handle)"
   ]
  },
  {
   "cell_type": "markdown",
   "metadata": {},
   "source": [
    "Tokenize verbatum"
   ]
  },
  {
   "cell_type": "code",
   "execution_count": 16,
   "metadata": {},
   "outputs": [],
   "source": [
    "stoi = []\n",
    "for idx,row in df.iterrows(): \n",
    "    posx = list(set(vocab.numericalize(row['text'].split())))\n",
    "    vct = np.zeros(emb_mtx.shape[0])\n",
    "    vct[posx]=1\n",
    "    \n",
    "    stoi.append(vct)\n",
    "\n",
    "verbatum_embeddings = np.dot(np.vstack(stoi),emb_mtx)"
   ]
  },
  {
   "cell_type": "markdown",
   "metadata": {},
   "source": [
    "Tokenize reference"
   ]
  },
  {
   "cell_type": "code",
   "execution_count": 26,
   "metadata": {},
   "outputs": [
    {
     "data": {
      "text/html": [
       "<div>\n",
       "<style scoped>\n",
       "    .dataframe tbody tr th:only-of-type {\n",
       "        vertical-align: middle;\n",
       "    }\n",
       "\n",
       "    .dataframe tbody tr th {\n",
       "        vertical-align: top;\n",
       "    }\n",
       "\n",
       "    .dataframe thead th {\n",
       "        text-align: right;\n",
       "    }\n",
       "</style>\n",
       "<table border=\"1\" class=\"dataframe\">\n",
       "  <thead>\n",
       "    <tr style=\"text-align: right;\">\n",
       "      <th></th>\n",
       "      <th>comment</th>\n",
       "      <th>aspect</th>\n",
       "      <th>sentiment</th>\n",
       "    </tr>\n",
       "  </thead>\n",
       "  <tbody>\n",
       "    <tr>\n",
       "      <th>0</th>\n",
       "      <td>hair look feel soft</td>\n",
       "      <td>HAIR CONDITION</td>\n",
       "      <td>1</td>\n",
       "    </tr>\n",
       "    <tr>\n",
       "      <th>1</th>\n",
       "      <td>soften hair hair not feel stiff coarse</td>\n",
       "      <td>HAIR CONDITION</td>\n",
       "      <td>1</td>\n",
       "    </tr>\n",
       "    <tr>\n",
       "      <th>2</th>\n",
       "      <td>leaf hair shiny bright</td>\n",
       "      <td>HAIR CONDITION</td>\n",
       "      <td>1</td>\n",
       "    </tr>\n",
       "    <tr>\n",
       "      <th>3</th>\n",
       "      <td>give hair more sheen not dull hair give hair h...</td>\n",
       "      <td>HAIR CONDITION</td>\n",
       "      <td>1</td>\n",
       "    </tr>\n",
       "    <tr>\n",
       "      <th>4</th>\n",
       "      <td>prevent hair be dry replace put moisture hair</td>\n",
       "      <td>HAIR CONDITION</td>\n",
       "      <td>1</td>\n",
       "    </tr>\n",
       "  </tbody>\n",
       "</table>\n",
       "</div>"
      ],
      "text/plain": [
       "                                             comment          aspect  \\\n",
       "0                                hair look feel soft  HAIR CONDITION   \n",
       "1             soften hair hair not feel stiff coarse  HAIR CONDITION   \n",
       "2                             leaf hair shiny bright  HAIR CONDITION   \n",
       "3  give hair more sheen not dull hair give hair h...  HAIR CONDITION   \n",
       "4      prevent hair be dry replace put moisture hair  HAIR CONDITION   \n",
       "\n",
       "   sentiment  \n",
       "0          1  \n",
       "1          1  \n",
       "2          1  \n",
       "3          1  \n",
       "4          1  "
      ]
     },
     "execution_count": 26,
     "metadata": {},
     "output_type": "execute_result"
    }
   ],
   "source": [
    "df_ref = pd.read_csv('./data/haircare_codes.csv')\n",
    "df_ref['comment'] = df_ref['comment'].apply(lambda x: x.lower().replace('//',' ').replace('/',' '))\n",
    "df_ref['comment'] = df_ref['comment'].apply(preprocess)\n",
    "df_ref.head()"
   ]
  },
  {
   "cell_type": "code",
   "execution_count": 27,
   "metadata": {},
   "outputs": [],
   "source": [
    "stoi = []\n",
    "for idx,row in df_ref.iterrows(): \n",
    "    posx = list(set(vocab.numericalize(preprocess(row['comment']).split())))\n",
    "    vct = np.zeros(emb_mtx.shape[0])\n",
    "    vct[posx]=1\n",
    "    \n",
    "    stoi.append(vct)\n",
    "\n",
    "verbatum_embeddings_ref = np.dot(np.vstack(stoi),emb_mtx)"
   ]
  },
  {
   "cell_type": "raw",
   "metadata": {},
   "source": [
    "df_emb = pd.DataFrame(verbatum_embeddings_ref)\n",
    "df_emb['aspect']=df_ref['aspect']\n",
    "\n",
    "df_emb = df_emb.groupby('aspect').mean().reset_index()\n",
    "verbatum_embeddings_ref = df_emb.drop('aspect',axis=1).values"
   ]
  },
  {
   "cell_type": "code",
   "execution_count": 28,
   "metadata": {},
   "outputs": [],
   "source": [
    "from numpy import linalg as LA\n",
    "\n",
    "# normalize both vectors\n",
    "verbatum_embeddings     = verbatum_embeddings    /LA.norm(verbatum_embeddings    , axis=1)[:,np.newaxis]\n",
    "verbatum_embeddings_ref = verbatum_embeddings_ref/LA.norm(verbatum_embeddings_ref, axis=1)[:,np.newaxis]"
   ]
  },
  {
   "cell_type": "markdown",
   "metadata": {},
   "source": [
    "Visualize the data"
   ]
  },
  {
   "cell_type": "code",
   "execution_count": 29,
   "metadata": {},
   "outputs": [],
   "source": [
    "from sklearn.decomposition import PCA\n",
    "\n",
    "pca = PCA(n_components=2)\n",
    "output_r = pca.fit_transform(verbatum_embeddings)"
   ]
  },
  {
   "cell_type": "code",
   "execution_count": 30,
   "metadata": {},
   "outputs": [
    {
     "name": "stdout",
     "output_type": "stream",
     "text": [
      "explained variance ratio (first two components): [0.078816 0.064998]\n"
     ]
    }
   ],
   "source": [
    "# Percentage of variance explained for each components\n",
    "print('explained variance ratio (first two components): %s'\n",
    "      % str(pca.explained_variance_ratio_))"
   ]
  },
  {
   "cell_type": "code",
   "execution_count": 31,
   "metadata": {},
   "outputs": [
    {
     "data": {
      "image/png": "[encoded data removed]",
      "text/plain": [
       "<Figure size 432x288 with 1 Axes>"
      ]
     },
     "metadata": {
      "needs_background": "light"
     },
     "output_type": "display_data"
    }
   ],
   "source": [
    "lw = 2\n",
    "\n",
    "for i, target_name in enumerate(df.label.unique()):\n",
    "    pos = (df.label==target_name).values\n",
    "    plt.scatter(output_r[pos, 0], output_r[pos, 1], alpha=.2, lw=lw,\n",
    "                label=target_name)"
   ]
  },
  {
   "cell_type": "code",
   "execution_count": 21,
   "metadata": {},
   "outputs": [],
   "source": [
    "from scipy.spatial import distance"
   ]
  },
  {
   "cell_type": "code",
   "execution_count": 32,
   "metadata": {},
   "outputs": [],
   "source": [
    "corr = np.zeros((verbatum_embeddings.shape[0],verbatum_embeddings_ref.shape[0]))\n",
    "for idx1 in range(verbatum_embeddings.shape[0]):\n",
    "    for idx2 in range(verbatum_embeddings_ref.shape[0]):\n",
    "        corr[idx1,idx2] = np.corrcoef(verbatum_embeddings[idx1,:], verbatum_embeddings_ref[idx2,:])[0, 1]\n",
    "    #sim.append(1 - distance.cosine(verbatum_embeddings[idx1,:], verbatum_embeddings_ref[idx2,:]))"
   ]
  },
  {
   "cell_type": "raw",
   "metadata": {},
   "source": [
    "import seaborn as sns\n",
    "\n",
    "# Generate a custom diverging colormap\n",
    "cmap = sns.diverging_palette(220, 10, as_cmap=True)\n",
    "\n",
    "# Draw the heatmap\n",
    "sns.heatmap(corr, cmap=cmap, \n",
    "            cbar_kws={\"shrink\": .5})"
   ]
  },
  {
   "cell_type": "code",
   "execution_count": 33,
   "metadata": {},
   "outputs": [],
   "source": [
    "idx1 = 4523\n",
    "idx2 = np.argsort(corr[idx1,:])"
   ]
  },
  {
   "cell_type": "code",
   "execution_count": 34,
   "metadata": {},
   "outputs": [
    {
     "data": {
      "text/plain": [
       "array(['product have also start help -PRON- son as well have very dry scalp have start use have notice -PRON- hair look way more healthy even have silky look be longer dry',\n",
       "       'Nutrition & Hair Health'], dtype=object)"
      ]
     },
     "execution_count": 34,
     "metadata": {},
     "output_type": "execute_result"
    }
   ],
   "source": [
    "df.iloc[idx1].values"
   ]
  },
  {
   "cell_type": "code",
   "execution_count": 36,
   "metadata": {},
   "outputs": [
    {
     "data": {
      "text/html": [
       "<div>\n",
       "<style scoped>\n",
       "    .dataframe tbody tr th:only-of-type {\n",
       "        vertical-align: middle;\n",
       "    }\n",
       "\n",
       "    .dataframe tbody tr th {\n",
       "        vertical-align: top;\n",
       "    }\n",
       "\n",
       "    .dataframe thead th {\n",
       "        text-align: right;\n",
       "    }\n",
       "</style>\n",
       "<table border=\"1\" class=\"dataframe\">\n",
       "  <thead>\n",
       "    <tr style=\"text-align: right;\">\n",
       "      <th></th>\n",
       "      <th>comment</th>\n",
       "      <th>aspect</th>\n",
       "      <th>sentiment</th>\n",
       "    </tr>\n",
       "  </thead>\n",
       "  <tbody>\n",
       "    <tr>\n",
       "      <th>360</th>\n",
       "      <td>price</td>\n",
       "      <td>ECONOMY</td>\n",
       "      <td>0</td>\n",
       "    </tr>\n",
       "    <tr>\n",
       "      <th>102</th>\n",
       "      <td>dandruff flake</td>\n",
       "      <td>SCALP DANDRUFF</td>\n",
       "      <td>1</td>\n",
       "    </tr>\n",
       "    <tr>\n",
       "      <th>303</th>\n",
       "      <td>dandruff flake</td>\n",
       "      <td>DANDRUFF</td>\n",
       "      <td>0</td>\n",
       "    </tr>\n",
       "    <tr>\n",
       "      <th>198</th>\n",
       "      <td>specific version</td>\n",
       "      <td>MISCELLANEOUS</td>\n",
       "      <td>1</td>\n",
       "    </tr>\n",
       "    <tr>\n",
       "      <th>173</th>\n",
       "      <td>leakproof closure</td>\n",
       "      <td>PACKAGE/BOTTLE/CONTAINER</td>\n",
       "      <td>1</td>\n",
       "    </tr>\n",
       "  </tbody>\n",
       "</table>\n",
       "</div>"
      ],
      "text/plain": [
       "               comment                    aspect  sentiment\n",
       "360              price                   ECONOMY          0\n",
       "102     dandruff flake            SCALP DANDRUFF          1\n",
       "303     dandruff flake                  DANDRUFF          0\n",
       "198   specific version             MISCELLANEOUS          1\n",
       "173  leakproof closure  PACKAGE/BOTTLE/CONTAINER          1"
      ]
     },
     "execution_count": 36,
     "metadata": {},
     "output_type": "execute_result"
    }
   ],
   "source": [
    "# df_emb['aspect'].iloc[idx2]\n",
    "df_ref.iloc[idx2].head()"
   ]
  }
 ],
 "metadata": {
  "kernelspec": {
   "display_name": "Python 3",
   "language": "python",
   "name": "python3"
  },
  "language_info": {
   "codemirror_mode": {
    "name": "ipython",
    "version": 3
   },
   "file_extension": ".py",
   "mimetype": "text/x-python",
   "name": "python",
   "nbconvert_exporter": "python",
   "pygments_lexer": "ipython3",
   "version": "3.6.8"
  }
 },
 "nbformat": 4,
 "nbformat_minor": 2
}
